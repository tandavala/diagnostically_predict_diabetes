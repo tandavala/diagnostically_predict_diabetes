{
 "cells": [
  {
   "cell_type": "code",
   "execution_count": null,
   "metadata": {},
   "outputs": [],
   "source": [
    "def detect_outliers_zcore(data):\n",
    "    outliers = []\n",
    "    thres = 3\n",
    "    mean = np.mean(data)\n",
    "    std = np.std(data)\n",
    "    for i in data:\n",
    "        z_score = (i-mean)/std\n",
    "        if (np.abs(z_score) > thres):\n",
    "            outliers.append(i)\n",
    "    return outliers\n",
    "\n",
    "def detect_outliers_iqr(data):\n",
    "    outliers = []\n",
    "    data = sorted(data)\n",
    "    q1 = np.percentile(data, 25)\n",
    "    q3 = np.percentile(data, 75)\n",
    "\n",
    "    IQR = q3-q1\n",
    "    lwr_bound = q1-(1.5*IQR)\n",
    "    upr_bound = q3+(1.5*IQR)\n",
    "\n",
    "    for i in data:\n",
    "        if (i < lwr_bound or i > upr_bound):\n",
    "            outliers.append(i)\n",
    "    return outliers"
   ]
  },
  {
   "cell_type": "code",
   "execution_count": null,
   "metadata": {},
   "outputs": [],
   "source": [
    "plt.figure(figsize=(12,12))\n",
    "for i, col in enumerate(['Pregnancies', 'Glucose', 'BloodPressure', 'SkinThickness', 'Insulin', 'BMI', 'DiabetesPedigreeFunction', 'Age']):\n",
    "    plt.subplot(3,3, i+1)\n",
    "    sns.boxplot(x=col, data=df)\n",
    "plt.show()"
   ]
  },
  {
   "cell_type": "code",
   "execution_count": null,
   "metadata": {},
   "outputs": [],
   "source": [
    "sns.boxplot(y=df['Age'], data=df)"
   ]
  },
  {
   "cell_type": "code",
   "execution_count": null,
   "metadata": {},
   "outputs": [],
   "source": [
    "outliers = detect_outliers_iqr(df['Age'].values)\n",
    "outliers"
   ]
  },
  {
   "cell_type": "code",
   "execution_count": null,
   "metadata": {},
   "outputs": [],
   "source": [
    "mask = df['Age'].isin(outliers)\n",
    "df_no_outliers = df[~mask]\n",
    "\n",
    "print(f\"New max Age: {df_no_outliers['Age'].max()}, New min Age: {df_no_outliers['Age'].min()}\")\n",
    "print(f\"Original max Age: {df['Age'].max()}, Original min Age: {df['Age'].min()}\")"
   ]
  },
  {
   "cell_type": "code",
   "execution_count": null,
   "metadata": {},
   "outputs": [],
   "source": [
    "fig, ax = plt.subplots(2, 1, figsize=(12,12))\n",
    "\n",
    "sns.histplot(data=df, x='Age', ax=ax[0])\n",
    "sns.histplot(data=df_no_outliers, x='Age', ax=ax[1])"
   ]
  },
  {
   "cell_type": "code",
   "execution_count": null,
   "metadata": {},
   "outputs": [],
   "source": [
    "sns.boxplot(x='Age', data=df_no_outliers, showfliers=False )"
   ]
  }
 ],
 "metadata": {
  "language_info": {
   "name": "python"
  }
 },
 "nbformat": 4,
 "nbformat_minor": 2
}
